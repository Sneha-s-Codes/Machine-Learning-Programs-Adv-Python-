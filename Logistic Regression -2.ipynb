{
 "cells": [
  {
   "cell_type": "code",
   "execution_count": null,
   "id": "0b0e6f0d",
   "metadata": {},
   "outputs": [],
   "source": [
    "import pandas as pd\n",
    "import numpy as np\n",
    "from sklearn.model_selection import train_test_split\n",
    "from sklearn.datasets import load_wine\n",
    "from sklearn.linear_model import LogisticRegression\n",
    "from sklearn.metrics import confusion_matrix\n",
    "from sklearn.metrics import accuracy_score\n",
    "import matplotlib.pyplot as plt\n",
    "import seaborn as sns"
   ]
  },
  {
   "cell_type": "code",
   "execution_count": null,
   "id": "bcd2e2cb",
   "metadata": {},
   "outputs": [],
   "source": [
    "wine = pd.read_csv('.csv')\n",
    "wine.head()"
   ]
  },
  {
   "cell_type": "code",
   "execution_count": null,
   "id": "1c6b1f87",
   "metadata": {},
   "outputs": [],
   "source": [
    "wine.info()"
   ]
  },
  {
   "cell_type": "code",
   "execution_count": null,
   "id": "ebea449a",
   "metadata": {},
   "outputs": [],
   "source": [
    "plt.figure(1,figsize=(15,15))\n",
    "plt.subplot(331)\n",
    "sns.distplot(winedata_df['alcohol'],bins=5).set_title('Distribution of alcohol')\n",
    "plt.subplot(332)\n",
    "sns.distplot(winedata_df['malic_acid'],bins=5).set_title('Distribution of malic_acid')\n",
    "plt.subplot(333)\n",
    "sns.distplot(winedata_df['ash'],bins=10).set_title('Distribution of ash')\n",
    "plt.subplot(334)\n",
    "sns.distplot(winedata_df['alcalinity_of_ash'],bins=20).set_title('Distribution of alcali\n",
    "plt.subplot(335)\n",
    "sns.distplot(winedata_df['magnesium'],bins=20).set_title('Distribution of magnesium')\n",
    "plt.subplot(336)\n",
    "sns.distplot(winedata_df['total_phenols'],bins=20).set_title('Distribution of total_phen\n",
    "plt.subplot(337)\n",
    "sns.distplot(winedata_df['flavanoids'],bins=15).set_title('Distribution of flavanoids')\n",
    "plt.subplot(338)\n",
    "sns.distplot(winedata_df['nonflavanoid_phenols'],bins=15).set_title('Distribution of non\n",
    "plt.subplot(339)\n",
    "sns.distplot(winedata_df['proanthocyanins'],bins=15).set_title('Distribution of proantho\n",
    "plt.suptitle(\"Distribution plot of variables\")\n",
    "plt.show()"
   ]
  },
  {
   "cell_type": "code",
   "execution_count": null,
   "id": "a1836ec2",
   "metadata": {},
   "outputs": [],
   "source": [
    "plt.figure(2, figsize=(15,5))\n",
    "plt.subplot(131)\n",
    "winedata_df['color_intensity'].plot.hist(bins=10).set_title('Histogram of color_intensit\n",
    "plt.subplot(132)\n",
    "winedata_df['hue'].plot.hist(bins=10).set_title('Histogram of hue')\n",
    "plt.subplot(133)\n",
    "winedata_df['od280/od315_of_diluted_wines'].plot.hist(bins=10).set_title('Histogram of o"
   ]
  },
  {
   "cell_type": "code",
   "execution_count": null,
   "id": "c3250786",
   "metadata": {},
   "outputs": [],
   "source": [
    "sns.heatmap(winedata_df.corr(),annot=True,cmap='YlGnBu')\n",
    "fig = plt.gcf()\n",
    "fig.set_size_inches(10,8)\n",
    "plt.title(\"Heatmap of C-relation between variables\",fontsize=16)\n",
    "plt.show()"
   ]
  },
  {
   "cell_type": "code",
   "execution_count": null,
   "id": "2310c818",
   "metadata": {},
   "outputs": [],
   "source": [
    "sns.pairplot(winedata_df[['alcohol','malic_acid','ash','alcalinity_of_ash','magnesium']]\n",
    "plt.suptitle(\"Scatter plot of observations\")\n",
    "plt.show()"
   ]
  },
  {
   "cell_type": "code",
   "execution_count": null,
   "id": "2e7d735a",
   "metadata": {},
   "outputs": [],
   "source": [
    "sns.pairplot(winedata_df[['total_phenols','flavanoids','nonflavanoid_phenols','proanthoc\n",
    "plt.suptitle(\"Scatter plot of observations\")\n",
    "plt.show()"
   ]
  },
  {
   "cell_type": "code",
   "execution_count": null,
   "id": "59353c84",
   "metadata": {},
   "outputs": [],
   "source": [
    "from scipy import stats\n",
    "stats.skew(winedata_df)"
   ]
  },
  {
   "cell_type": "code",
   "execution_count": null,
   "id": "59ed07c8",
   "metadata": {},
   "outputs": [],
   "source": [
    "stats.kurtosis(winedata_df)"
   ]
  },
  {
   "cell_type": "code",
   "execution_count": null,
   "id": "08ea1e69",
   "metadata": {},
   "outputs": [],
   "source": [
    "zscore = np.abs(stats.zscore(winedata_df))\n",
    "zscore"
   ]
  },
  {
   "cell_type": "code",
   "execution_count": null,
   "id": "9e4c021d",
   "metadata": {},
   "outputs": [],
   "source": [
    "outlierlist = np.where(zscore>3)\n",
    "outlierlist[0]"
   ]
  },
  {
   "cell_type": "code",
   "execution_count": null,
   "id": "d59c40c7",
   "metadata": {},
   "outputs": [],
   "source": [
    "winedata_df_n = winedata_df[(zscore<3).all(axis=1)]\n",
    "winedata_df_n.shape"
   ]
  },
  {
   "cell_type": "code",
   "execution_count": null,
   "id": "f622e027",
   "metadata": {},
   "outputs": [],
   "source": [
    "train_x, test_x , train_y , test_y = train_test_split(winedata_df_n,winetarget_df_n,random state=0)"
   ]
  },
  {
   "cell_type": "code",
   "execution_count": null,
   "id": "1c4c4468",
   "metadata": {},
   "outputs": [],
   "source": [
    "wine_model = LogisticRegression()"
   ]
  },
  {
   "cell_type": "code",
   "execution_count": null,
   "id": "f65b82df",
   "metadata": {},
   "outputs": [],
   "source": [
    "wine_model.fit(train_x,train_y)"
   ]
  },
  {
   "cell_type": "code",
   "execution_count": null,
   "id": "1f92f31e",
   "metadata": {},
   "outputs": [],
   "source": [
    "wine_model.score(train_x,train_y)"
   ]
  },
  {
   "cell_type": "code",
   "execution_count": null,
   "id": "ea53ef60",
   "metadata": {},
   "outputs": [],
   "source": [
    "pred = wine_model.predict(test_x)"
   ]
  },
  {
   "cell_type": "code",
   "execution_count": null,
   "id": "7df6957f",
   "metadata": {},
   "outputs": [],
   "source": [
    "confusion_matrix(test_y,pred)"
   ]
  },
  {
   "cell_type": "code",
   "execution_count": null,
   "id": "7fa5ae9a",
   "metadata": {},
   "outputs": [],
   "source": []
  },
  {
   "cell_type": "code",
   "execution_count": null,
   "id": "071a0d35",
   "metadata": {},
   "outputs": [],
   "source": []
  }
 ],
 "metadata": {
  "kernelspec": {
   "display_name": "Python 3 (ipykernel)",
   "language": "python",
   "name": "python3"
  },
  "language_info": {
   "codemirror_mode": {
    "name": "ipython",
    "version": 3
   },
   "file_extension": ".py",
   "mimetype": "text/x-python",
   "name": "python",
   "nbconvert_exporter": "python",
   "pygments_lexer": "ipython3",
   "version": "3.8.10"
  }
 },
 "nbformat": 4,
 "nbformat_minor": 5
}
