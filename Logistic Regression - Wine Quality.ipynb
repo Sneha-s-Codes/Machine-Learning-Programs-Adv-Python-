{
 "cells": [
  {
   "cell_type": "code",
   "execution_count": 2,
   "id": "7902961d",
   "metadata": {},
   "outputs": [],
   "source": [
    "import pandas as pd\n",
    "import numpy as np\n",
    "import seaborn as sns\n",
    "import matplotlib.pyplot as plt\n"
   ]
  },
  {
   "cell_type": "code",
   "execution_count": 3,
   "id": "aa47c676",
   "metadata": {},
   "outputs": [
    {
     "data": {
      "text/html": [
       "<div>\n",
       "<style scoped>\n",
       "    .dataframe tbody tr th:only-of-type {\n",
       "        vertical-align: middle;\n",
       "    }\n",
       "\n",
       "    .dataframe tbody tr th {\n",
       "        vertical-align: top;\n",
       "    }\n",
       "\n",
       "    .dataframe thead th {\n",
       "        text-align: right;\n",
       "    }\n",
       "</style>\n",
       "<table border=\"1\" class=\"dataframe\">\n",
       "  <thead>\n",
       "    <tr style=\"text-align: right;\">\n",
       "      <th></th>\n",
       "      <th>type</th>\n",
       "      <th>fixed acidity</th>\n",
       "      <th>volatile acidity</th>\n",
       "      <th>citric acid</th>\n",
       "      <th>residual sugar</th>\n",
       "      <th>chlorides</th>\n",
       "      <th>free sulfur dioxide</th>\n",
       "      <th>total sulfur dioxide</th>\n",
       "      <th>density</th>\n",
       "      <th>pH</th>\n",
       "      <th>sulphates</th>\n",
       "      <th>alcohol</th>\n",
       "      <th>quality</th>\n",
       "    </tr>\n",
       "  </thead>\n",
       "  <tbody>\n",
       "    <tr>\n",
       "      <th>0</th>\n",
       "      <td>white</td>\n",
       "      <td>7.0</td>\n",
       "      <td>0.27</td>\n",
       "      <td>0.36</td>\n",
       "      <td>20.7</td>\n",
       "      <td>0.045</td>\n",
       "      <td>45.0</td>\n",
       "      <td>170.0</td>\n",
       "      <td>1.001</td>\n",
       "      <td>3.0</td>\n",
       "      <td>0.45</td>\n",
       "      <td>8.8</td>\n",
       "      <td>6</td>\n",
       "    </tr>\n",
       "    <tr>\n",
       "      <th>1</th>\n",
       "      <td>white</td>\n",
       "      <td>6.3</td>\n",
       "      <td>0.30</td>\n",
       "      <td>0.34</td>\n",
       "      <td>1.6</td>\n",
       "      <td>0.049</td>\n",
       "      <td>14.0</td>\n",
       "      <td>132.0</td>\n",
       "      <td>0.994</td>\n",
       "      <td>3.3</td>\n",
       "      <td>0.49</td>\n",
       "      <td>9.5</td>\n",
       "      <td>6</td>\n",
       "    </tr>\n",
       "  </tbody>\n",
       "</table>\n",
       "</div>"
      ],
      "text/plain": [
       "    type  fixed acidity  volatile acidity  citric acid  residual sugar  \\\n",
       "0  white            7.0              0.27         0.36            20.7   \n",
       "1  white            6.3              0.30         0.34             1.6   \n",
       "\n",
       "   chlorides  free sulfur dioxide  total sulfur dioxide  density   pH  \\\n",
       "0      0.045                 45.0                 170.0    1.001  3.0   \n",
       "1      0.049                 14.0                 132.0    0.994  3.3   \n",
       "\n",
       "   sulphates  alcohol  quality  \n",
       "0       0.45      8.8        6  \n",
       "1       0.49      9.5        6  "
      ]
     },
     "execution_count": 3,
     "metadata": {},
     "output_type": "execute_result"
    }
   ],
   "source": [
    "wine = pd.read_csv(\"C:/Users/user/Desktop/Sneha's Program/ML Datasets/winequalityN.csv\")\n",
    "wine.head(2)"
   ]
  },
  {
   "cell_type": "code",
   "execution_count": 4,
   "id": "cd20e449",
   "metadata": {},
   "outputs": [
    {
     "name": "stdout",
     "output_type": "stream",
     "text": [
      "<class 'pandas.core.frame.DataFrame'>\n",
      "RangeIndex: 6497 entries, 0 to 6496\n",
      "Data columns (total 13 columns):\n",
      " #   Column                Non-Null Count  Dtype  \n",
      "---  ------                --------------  -----  \n",
      " 0   type                  6497 non-null   object \n",
      " 1   fixed acidity         6487 non-null   float64\n",
      " 2   volatile acidity      6489 non-null   float64\n",
      " 3   citric acid           6494 non-null   float64\n",
      " 4   residual sugar        6495 non-null   float64\n",
      " 5   chlorides             6495 non-null   float64\n",
      " 6   free sulfur dioxide   6497 non-null   float64\n",
      " 7   total sulfur dioxide  6497 non-null   float64\n",
      " 8   density               6497 non-null   float64\n",
      " 9   pH                    6488 non-null   float64\n",
      " 10  sulphates             6493 non-null   float64\n",
      " 11  alcohol               6497 non-null   float64\n",
      " 12  quality               6497 non-null   int64  \n",
      "dtypes: float64(11), int64(1), object(1)\n",
      "memory usage: 660.0+ KB\n"
     ]
    }
   ],
   "source": [
    "wine.info()"
   ]
  },
  {
   "cell_type": "code",
   "execution_count": 5,
   "id": "6d5fd369",
   "metadata": {},
   "outputs": [
    {
     "data": {
      "text/html": [
       "<div>\n",
       "<style scoped>\n",
       "    .dataframe tbody tr th:only-of-type {\n",
       "        vertical-align: middle;\n",
       "    }\n",
       "\n",
       "    .dataframe tbody tr th {\n",
       "        vertical-align: top;\n",
       "    }\n",
       "\n",
       "    .dataframe thead th {\n",
       "        text-align: right;\n",
       "    }\n",
       "</style>\n",
       "<table border=\"1\" class=\"dataframe\">\n",
       "  <thead>\n",
       "    <tr style=\"text-align: right;\">\n",
       "      <th></th>\n",
       "      <th>fixed acidity</th>\n",
       "      <th>volatile acidity</th>\n",
       "      <th>citric acid</th>\n",
       "      <th>residual sugar</th>\n",
       "      <th>chlorides</th>\n",
       "      <th>free sulfur dioxide</th>\n",
       "      <th>total sulfur dioxide</th>\n",
       "      <th>density</th>\n",
       "      <th>pH</th>\n",
       "      <th>sulphates</th>\n",
       "      <th>alcohol</th>\n",
       "      <th>quality</th>\n",
       "    </tr>\n",
       "  </thead>\n",
       "  <tbody>\n",
       "    <tr>\n",
       "      <th>count</th>\n",
       "      <td>6487.000000</td>\n",
       "      <td>6489.000000</td>\n",
       "      <td>6494.000000</td>\n",
       "      <td>6495.000000</td>\n",
       "      <td>6495.000000</td>\n",
       "      <td>6497.000000</td>\n",
       "      <td>6497.000000</td>\n",
       "      <td>6497.000000</td>\n",
       "      <td>6488.000000</td>\n",
       "      <td>6493.000000</td>\n",
       "      <td>6497.000000</td>\n",
       "      <td>6497.000000</td>\n",
       "    </tr>\n",
       "    <tr>\n",
       "      <th>mean</th>\n",
       "      <td>7.216579</td>\n",
       "      <td>0.339691</td>\n",
       "      <td>0.318722</td>\n",
       "      <td>5.444326</td>\n",
       "      <td>0.056042</td>\n",
       "      <td>30.525319</td>\n",
       "      <td>115.744574</td>\n",
       "      <td>0.994697</td>\n",
       "      <td>3.218395</td>\n",
       "      <td>0.531215</td>\n",
       "      <td>10.491801</td>\n",
       "      <td>5.818378</td>\n",
       "    </tr>\n",
       "    <tr>\n",
       "      <th>std</th>\n",
       "      <td>1.296750</td>\n",
       "      <td>0.164649</td>\n",
       "      <td>0.145265</td>\n",
       "      <td>4.758125</td>\n",
       "      <td>0.035036</td>\n",
       "      <td>17.749400</td>\n",
       "      <td>56.521855</td>\n",
       "      <td>0.002999</td>\n",
       "      <td>0.160748</td>\n",
       "      <td>0.148814</td>\n",
       "      <td>1.192712</td>\n",
       "      <td>0.873255</td>\n",
       "    </tr>\n",
       "    <tr>\n",
       "      <th>min</th>\n",
       "      <td>3.800000</td>\n",
       "      <td>0.080000</td>\n",
       "      <td>0.000000</td>\n",
       "      <td>0.600000</td>\n",
       "      <td>0.009000</td>\n",
       "      <td>1.000000</td>\n",
       "      <td>6.000000</td>\n",
       "      <td>0.987110</td>\n",
       "      <td>2.720000</td>\n",
       "      <td>0.220000</td>\n",
       "      <td>8.000000</td>\n",
       "      <td>3.000000</td>\n",
       "    </tr>\n",
       "    <tr>\n",
       "      <th>25%</th>\n",
       "      <td>6.400000</td>\n",
       "      <td>0.230000</td>\n",
       "      <td>0.250000</td>\n",
       "      <td>1.800000</td>\n",
       "      <td>0.038000</td>\n",
       "      <td>17.000000</td>\n",
       "      <td>77.000000</td>\n",
       "      <td>0.992340</td>\n",
       "      <td>3.110000</td>\n",
       "      <td>0.430000</td>\n",
       "      <td>9.500000</td>\n",
       "      <td>5.000000</td>\n",
       "    </tr>\n",
       "    <tr>\n",
       "      <th>50%</th>\n",
       "      <td>7.000000</td>\n",
       "      <td>0.290000</td>\n",
       "      <td>0.310000</td>\n",
       "      <td>3.000000</td>\n",
       "      <td>0.047000</td>\n",
       "      <td>29.000000</td>\n",
       "      <td>118.000000</td>\n",
       "      <td>0.994890</td>\n",
       "      <td>3.210000</td>\n",
       "      <td>0.510000</td>\n",
       "      <td>10.300000</td>\n",
       "      <td>6.000000</td>\n",
       "    </tr>\n",
       "    <tr>\n",
       "      <th>75%</th>\n",
       "      <td>7.700000</td>\n",
       "      <td>0.400000</td>\n",
       "      <td>0.390000</td>\n",
       "      <td>8.100000</td>\n",
       "      <td>0.065000</td>\n",
       "      <td>41.000000</td>\n",
       "      <td>156.000000</td>\n",
       "      <td>0.996990</td>\n",
       "      <td>3.320000</td>\n",
       "      <td>0.600000</td>\n",
       "      <td>11.300000</td>\n",
       "      <td>6.000000</td>\n",
       "    </tr>\n",
       "    <tr>\n",
       "      <th>max</th>\n",
       "      <td>15.900000</td>\n",
       "      <td>1.580000</td>\n",
       "      <td>1.660000</td>\n",
       "      <td>65.800000</td>\n",
       "      <td>0.611000</td>\n",
       "      <td>289.000000</td>\n",
       "      <td>440.000000</td>\n",
       "      <td>1.038980</td>\n",
       "      <td>4.010000</td>\n",
       "      <td>2.000000</td>\n",
       "      <td>14.900000</td>\n",
       "      <td>9.000000</td>\n",
       "    </tr>\n",
       "  </tbody>\n",
       "</table>\n",
       "</div>"
      ],
      "text/plain": [
       "       fixed acidity  volatile acidity  citric acid  residual sugar  \\\n",
       "count    6487.000000       6489.000000  6494.000000     6495.000000   \n",
       "mean        7.216579          0.339691     0.318722        5.444326   \n",
       "std         1.296750          0.164649     0.145265        4.758125   \n",
       "min         3.800000          0.080000     0.000000        0.600000   \n",
       "25%         6.400000          0.230000     0.250000        1.800000   \n",
       "50%         7.000000          0.290000     0.310000        3.000000   \n",
       "75%         7.700000          0.400000     0.390000        8.100000   \n",
       "max        15.900000          1.580000     1.660000       65.800000   \n",
       "\n",
       "         chlorides  free sulfur dioxide  total sulfur dioxide      density  \\\n",
       "count  6495.000000          6497.000000           6497.000000  6497.000000   \n",
       "mean      0.056042            30.525319            115.744574     0.994697   \n",
       "std       0.035036            17.749400             56.521855     0.002999   \n",
       "min       0.009000             1.000000              6.000000     0.987110   \n",
       "25%       0.038000            17.000000             77.000000     0.992340   \n",
       "50%       0.047000            29.000000            118.000000     0.994890   \n",
       "75%       0.065000            41.000000            156.000000     0.996990   \n",
       "max       0.611000           289.000000            440.000000     1.038980   \n",
       "\n",
       "                pH    sulphates      alcohol      quality  \n",
       "count  6488.000000  6493.000000  6497.000000  6497.000000  \n",
       "mean      3.218395     0.531215    10.491801     5.818378  \n",
       "std       0.160748     0.148814     1.192712     0.873255  \n",
       "min       2.720000     0.220000     8.000000     3.000000  \n",
       "25%       3.110000     0.430000     9.500000     5.000000  \n",
       "50%       3.210000     0.510000    10.300000     6.000000  \n",
       "75%       3.320000     0.600000    11.300000     6.000000  \n",
       "max       4.010000     2.000000    14.900000     9.000000  "
      ]
     },
     "execution_count": 5,
     "metadata": {},
     "output_type": "execute_result"
    }
   ],
   "source": [
    "wine.describe()"
   ]
  },
  {
   "cell_type": "code",
   "execution_count": 6,
   "id": "8c35ba82",
   "metadata": {},
   "outputs": [
    {
     "data": {
      "text/plain": [
       "Index(['type', 'fixed acidity', 'volatile acidity', 'citric acid',\n",
       "       'residual sugar', 'chlorides', 'free sulfur dioxide',\n",
       "       'total sulfur dioxide', 'density', 'pH', 'sulphates', 'alcohol',\n",
       "       'quality'],\n",
       "      dtype='object')"
      ]
     },
     "execution_count": 6,
     "metadata": {},
     "output_type": "execute_result"
    }
   ],
   "source": [
    "wine.keys()"
   ]
  },
  {
   "cell_type": "code",
   "execution_count": 7,
   "id": "0aaad9fd",
   "metadata": {},
   "outputs": [],
   "source": [
    "add = wine.isnull().sum()\n",
    "percent = (wine.isnull().sum()/wine.isnull().count())\n",
    "h=pd.concat([add,percent], axis =1, keys = ['Sum', 'Percentage'])"
   ]
  },
  {
   "cell_type": "code",
   "execution_count": 8,
   "id": "57fab5d1",
   "metadata": {},
   "outputs": [],
   "source": [
    "def null_cell(df):\n",
    "    total_missing_values = df.isnull().sum()\n",
    "    missing_values_per = df.isnull().sum()/df.isnull().count()\n",
    "    \n",
    "    #crating df to list null values & percentage\n",
    "    null_values = pd.concat([total_missing_values, missing_values_per], axis =1, keys = ['Total Null', 'Percentage'])\n",
    "    #Sorting Null Values\n",
    "    null_values = null_values.sort_values('Total Null', ascending =False)\n",
    "    \n",
    "    #retuning attributes having null values\n",
    "    return null_values[null_values['Total Null'] > 0]"
   ]
  },
  {
   "cell_type": "code",
   "execution_count": 9,
   "id": "6333b677",
   "metadata": {},
   "outputs": [
    {
     "data": {
      "text/plain": [
       "Index(['fixed acidity', 'pH', 'volatile acidity', 'sulphates', 'citric acid',\n",
       "       'residual sugar', 'chlorides'],\n",
       "      dtype='object')"
      ]
     },
     "execution_count": 9,
     "metadata": {},
     "output_type": "execute_result"
    }
   ],
   "source": [
    "fill_list =  (null_cell(wine)).index\n",
    "fill_list"
   ]
  },
  {
   "cell_type": "code",
   "execution_count": 10,
   "id": "a61aefa9",
   "metadata": {},
   "outputs": [],
   "source": [
    "pp_wine =  wine.copy()\n",
    "\n",
    "for col in fill_list:\n",
    "    pp_wine.loc[:,col].fillna(pp_wine.loc[:,col].mean(), inplace =True)"
   ]
  },
  {
   "cell_type": "code",
   "execution_count": 11,
   "id": "69343941",
   "metadata": {},
   "outputs": [
    {
     "data": {
      "text/plain": [
       "type                    0\n",
       "fixed acidity           0\n",
       "volatile acidity        0\n",
       "citric acid             0\n",
       "residual sugar          0\n",
       "chlorides               0\n",
       "free sulfur dioxide     0\n",
       "total sulfur dioxide    0\n",
       "density                 0\n",
       "pH                      0\n",
       "sulphates               0\n",
       "alcohol                 0\n",
       "quality                 0\n",
       "dtype: int64"
      ]
     },
     "execution_count": 11,
     "metadata": {},
     "output_type": "execute_result"
    }
   ],
   "source": [
    "pp_wine.isnull().sum()"
   ]
  },
  {
   "cell_type": "code",
   "execution_count": 12,
   "id": "b57bba75",
   "metadata": {},
   "outputs": [
    {
     "name": "stderr",
     "output_type": "stream",
     "text": [
      "C:\\Users\\user\\AppData\\Local\\Temp\\ipykernel_4440\\923177319.py:1: FutureWarning: The default value of numeric_only in DataFrame.corr is deprecated. In a future version, it will default to False. Select only valid columns or specify the value of numeric_only to silence this warning.\n",
      "  corr_matrix = pp_wine.corr()\n"
     ]
    },
    {
     "data": {
      "text/html": [
       "<div>\n",
       "<style scoped>\n",
       "    .dataframe tbody tr th:only-of-type {\n",
       "        vertical-align: middle;\n",
       "    }\n",
       "\n",
       "    .dataframe tbody tr th {\n",
       "        vertical-align: top;\n",
       "    }\n",
       "\n",
       "    .dataframe thead th {\n",
       "        text-align: right;\n",
       "    }\n",
       "</style>\n",
       "<table border=\"1\" class=\"dataframe\">\n",
       "  <thead>\n",
       "    <tr style=\"text-align: right;\">\n",
       "      <th></th>\n",
       "      <th>fixed acidity</th>\n",
       "      <th>volatile acidity</th>\n",
       "      <th>citric acid</th>\n",
       "      <th>residual sugar</th>\n",
       "      <th>chlorides</th>\n",
       "      <th>free sulfur dioxide</th>\n",
       "      <th>total sulfur dioxide</th>\n",
       "      <th>density</th>\n",
       "      <th>pH</th>\n",
       "      <th>sulphates</th>\n",
       "      <th>alcohol</th>\n",
       "      <th>quality</th>\n",
       "    </tr>\n",
       "  </thead>\n",
       "  <tbody>\n",
       "    <tr>\n",
       "      <th>fixed acidity</th>\n",
       "      <td>1.000000</td>\n",
       "      <td>0.219918</td>\n",
       "      <td>0.323349</td>\n",
       "      <td>-0.112219</td>\n",
       "      <td>0.298282</td>\n",
       "      <td>-0.283237</td>\n",
       "      <td>-0.329409</td>\n",
       "      <td>0.458941</td>\n",
       "      <td>-0.251683</td>\n",
       "      <td>0.300225</td>\n",
       "      <td>-0.095560</td>\n",
       "      <td>-0.076967</td>\n",
       "    </tr>\n",
       "    <tr>\n",
       "      <th>volatile acidity</th>\n",
       "      <td>0.219918</td>\n",
       "      <td>1.000000</td>\n",
       "      <td>-0.377759</td>\n",
       "      <td>-0.196578</td>\n",
       "      <td>0.377122</td>\n",
       "      <td>-0.353055</td>\n",
       "      <td>-0.414706</td>\n",
       "      <td>0.271107</td>\n",
       "      <td>0.260283</td>\n",
       "      <td>0.225313</td>\n",
       "      <td>-0.038215</td>\n",
       "      <td>-0.265838</td>\n",
       "    </tr>\n",
       "    <tr>\n",
       "      <th>citric acid</th>\n",
       "      <td>0.323349</td>\n",
       "      <td>-0.377759</td>\n",
       "      <td>1.000000</td>\n",
       "      <td>0.142451</td>\n",
       "      <td>0.039310</td>\n",
       "      <td>0.133426</td>\n",
       "      <td>0.195148</td>\n",
       "      <td>0.096307</td>\n",
       "      <td>-0.328354</td>\n",
       "      <td>0.057564</td>\n",
       "      <td>-0.010431</td>\n",
       "      <td>0.085699</td>\n",
       "    </tr>\n",
       "    <tr>\n",
       "      <th>residual sugar</th>\n",
       "      <td>-0.112219</td>\n",
       "      <td>-0.196578</td>\n",
       "      <td>0.142451</td>\n",
       "      <td>1.000000</td>\n",
       "      <td>-0.128887</td>\n",
       "      <td>0.403242</td>\n",
       "      <td>0.495704</td>\n",
       "      <td>0.552487</td>\n",
       "      <td>-0.266717</td>\n",
       "      <td>-0.185716</td>\n",
       "      <td>-0.359656</td>\n",
       "      <td>-0.036819</td>\n",
       "    </tr>\n",
       "    <tr>\n",
       "      <th>chlorides</th>\n",
       "      <td>0.298282</td>\n",
       "      <td>0.377122</td>\n",
       "      <td>0.039310</td>\n",
       "      <td>-0.128887</td>\n",
       "      <td>1.000000</td>\n",
       "      <td>-0.194978</td>\n",
       "      <td>-0.279547</td>\n",
       "      <td>0.362580</td>\n",
       "      <td>0.044754</td>\n",
       "      <td>0.395073</td>\n",
       "      <td>-0.256844</td>\n",
       "      <td>-0.200818</td>\n",
       "    </tr>\n",
       "    <tr>\n",
       "      <th>free sulfur dioxide</th>\n",
       "      <td>-0.283237</td>\n",
       "      <td>-0.353055</td>\n",
       "      <td>0.133426</td>\n",
       "      <td>0.403242</td>\n",
       "      <td>-0.194978</td>\n",
       "      <td>1.000000</td>\n",
       "      <td>0.720934</td>\n",
       "      <td>0.025717</td>\n",
       "      <td>-0.145116</td>\n",
       "      <td>-0.188471</td>\n",
       "      <td>-0.179838</td>\n",
       "      <td>0.055463</td>\n",
       "    </tr>\n",
       "    <tr>\n",
       "      <th>total sulfur dioxide</th>\n",
       "      <td>-0.329409</td>\n",
       "      <td>-0.414706</td>\n",
       "      <td>0.195148</td>\n",
       "      <td>0.495704</td>\n",
       "      <td>-0.279547</td>\n",
       "      <td>0.720934</td>\n",
       "      <td>1.000000</td>\n",
       "      <td>0.032395</td>\n",
       "      <td>-0.237523</td>\n",
       "      <td>-0.275291</td>\n",
       "      <td>-0.265740</td>\n",
       "      <td>-0.041385</td>\n",
       "    </tr>\n",
       "    <tr>\n",
       "      <th>density</th>\n",
       "      <td>0.458941</td>\n",
       "      <td>0.271107</td>\n",
       "      <td>0.096307</td>\n",
       "      <td>0.552487</td>\n",
       "      <td>0.362580</td>\n",
       "      <td>0.025717</td>\n",
       "      <td>0.032395</td>\n",
       "      <td>1.000000</td>\n",
       "      <td>0.011913</td>\n",
       "      <td>0.259432</td>\n",
       "      <td>-0.686745</td>\n",
       "      <td>-0.305858</td>\n",
       "    </tr>\n",
       "    <tr>\n",
       "      <th>pH</th>\n",
       "      <td>-0.251683</td>\n",
       "      <td>0.260283</td>\n",
       "      <td>-0.328354</td>\n",
       "      <td>-0.266717</td>\n",
       "      <td>0.044754</td>\n",
       "      <td>-0.145116</td>\n",
       "      <td>-0.237523</td>\n",
       "      <td>0.011913</td>\n",
       "      <td>1.000000</td>\n",
       "      <td>0.191075</td>\n",
       "      <td>0.120939</td>\n",
       "      <td>0.019356</td>\n",
       "    </tr>\n",
       "    <tr>\n",
       "      <th>sulphates</th>\n",
       "      <td>0.300225</td>\n",
       "      <td>0.225313</td>\n",
       "      <td>0.057564</td>\n",
       "      <td>-0.185716</td>\n",
       "      <td>0.395073</td>\n",
       "      <td>-0.188471</td>\n",
       "      <td>-0.275291</td>\n",
       "      <td>0.259432</td>\n",
       "      <td>0.191075</td>\n",
       "      <td>1.000000</td>\n",
       "      <td>-0.003261</td>\n",
       "      <td>0.038713</td>\n",
       "    </tr>\n",
       "    <tr>\n",
       "      <th>alcohol</th>\n",
       "      <td>-0.095560</td>\n",
       "      <td>-0.038215</td>\n",
       "      <td>-0.010431</td>\n",
       "      <td>-0.359656</td>\n",
       "      <td>-0.256844</td>\n",
       "      <td>-0.179838</td>\n",
       "      <td>-0.265740</td>\n",
       "      <td>-0.686745</td>\n",
       "      <td>0.120939</td>\n",
       "      <td>-0.003261</td>\n",
       "      <td>1.000000</td>\n",
       "      <td>0.444319</td>\n",
       "    </tr>\n",
       "    <tr>\n",
       "      <th>quality</th>\n",
       "      <td>-0.076967</td>\n",
       "      <td>-0.265838</td>\n",
       "      <td>0.085699</td>\n",
       "      <td>-0.036819</td>\n",
       "      <td>-0.200818</td>\n",
       "      <td>0.055463</td>\n",
       "      <td>-0.041385</td>\n",
       "      <td>-0.305858</td>\n",
       "      <td>0.019356</td>\n",
       "      <td>0.038713</td>\n",
       "      <td>0.444319</td>\n",
       "      <td>1.000000</td>\n",
       "    </tr>\n",
       "  </tbody>\n",
       "</table>\n",
       "</div>"
      ],
      "text/plain": [
       "                      fixed acidity  volatile acidity  citric acid  \\\n",
       "fixed acidity              1.000000          0.219918     0.323349   \n",
       "volatile acidity           0.219918          1.000000    -0.377759   \n",
       "citric acid                0.323349         -0.377759     1.000000   \n",
       "residual sugar            -0.112219         -0.196578     0.142451   \n",
       "chlorides                  0.298282          0.377122     0.039310   \n",
       "free sulfur dioxide       -0.283237         -0.353055     0.133426   \n",
       "total sulfur dioxide      -0.329409         -0.414706     0.195148   \n",
       "density                    0.458941          0.271107     0.096307   \n",
       "pH                        -0.251683          0.260283    -0.328354   \n",
       "sulphates                  0.300225          0.225313     0.057564   \n",
       "alcohol                   -0.095560         -0.038215    -0.010431   \n",
       "quality                   -0.076967         -0.265838     0.085699   \n",
       "\n",
       "                      residual sugar  chlorides  free sulfur dioxide  \\\n",
       "fixed acidity              -0.112219   0.298282            -0.283237   \n",
       "volatile acidity           -0.196578   0.377122            -0.353055   \n",
       "citric acid                 0.142451   0.039310             0.133426   \n",
       "residual sugar              1.000000  -0.128887             0.403242   \n",
       "chlorides                  -0.128887   1.000000            -0.194978   \n",
       "free sulfur dioxide         0.403242  -0.194978             1.000000   \n",
       "total sulfur dioxide        0.495704  -0.279547             0.720934   \n",
       "density                     0.552487   0.362580             0.025717   \n",
       "pH                         -0.266717   0.044754            -0.145116   \n",
       "sulphates                  -0.185716   0.395073            -0.188471   \n",
       "alcohol                    -0.359656  -0.256844            -0.179838   \n",
       "quality                    -0.036819  -0.200818             0.055463   \n",
       "\n",
       "                      total sulfur dioxide   density        pH  sulphates  \\\n",
       "fixed acidity                    -0.329409  0.458941 -0.251683   0.300225   \n",
       "volatile acidity                 -0.414706  0.271107  0.260283   0.225313   \n",
       "citric acid                       0.195148  0.096307 -0.328354   0.057564   \n",
       "residual sugar                    0.495704  0.552487 -0.266717  -0.185716   \n",
       "chlorides                        -0.279547  0.362580  0.044754   0.395073   \n",
       "free sulfur dioxide               0.720934  0.025717 -0.145116  -0.188471   \n",
       "total sulfur dioxide              1.000000  0.032395 -0.237523  -0.275291   \n",
       "density                           0.032395  1.000000  0.011913   0.259432   \n",
       "pH                               -0.237523  0.011913  1.000000   0.191075   \n",
       "sulphates                        -0.275291  0.259432  0.191075   1.000000   \n",
       "alcohol                          -0.265740 -0.686745  0.120939  -0.003261   \n",
       "quality                          -0.041385 -0.305858  0.019356   0.038713   \n",
       "\n",
       "                       alcohol   quality  \n",
       "fixed acidity        -0.095560 -0.076967  \n",
       "volatile acidity     -0.038215 -0.265838  \n",
       "citric acid          -0.010431  0.085699  \n",
       "residual sugar       -0.359656 -0.036819  \n",
       "chlorides            -0.256844 -0.200818  \n",
       "free sulfur dioxide  -0.179838  0.055463  \n",
       "total sulfur dioxide -0.265740 -0.041385  \n",
       "density              -0.686745 -0.305858  \n",
       "pH                    0.120939  0.019356  \n",
       "sulphates            -0.003261  0.038713  \n",
       "alcohol               1.000000  0.444319  \n",
       "quality               0.444319  1.000000  "
      ]
     },
     "execution_count": 12,
     "metadata": {},
     "output_type": "execute_result"
    }
   ],
   "source": [
    "corr_matrix = pp_wine.corr()\n",
    "corr_matrix\n"
   ]
  },
  {
   "cell_type": "code",
   "execution_count": 13,
   "id": "10e5f4eb",
   "metadata": {},
   "outputs": [
    {
     "data": {
      "text/plain": [
       "Index(['quality', 'alcohol', 'density', 'volatile acidity', 'chlorides',\n",
       "       'citric acid', 'fixed acidity', 'free sulfur dioxide',\n",
       "       'total sulfur dioxide', 'sulphates', 'residual sugar', 'pH'],\n",
       "      dtype='object')"
      ]
     },
     "execution_count": 13,
     "metadata": {},
     "output_type": "execute_result"
    }
   ],
   "source": [
    "corr_list =corr_matrix.quality.abs().sort_values(ascending = False).index[0:]\n",
    "corr_list"
   ]
  },
  {
   "cell_type": "code",
   "execution_count": 14,
   "id": "12a92f11",
   "metadata": {},
   "outputs": [
    {
     "data": {
      "text/plain": [
       "<Axes: >"
      ]
     },
     "execution_count": 14,
     "metadata": {},
     "output_type": "execute_result"
    },
    {
     "data": {
      "image/png": "[encoded data removed]",
      "text/plain": [
       "<Figure size 640x480 with 2 Axes>"
      ]
     },
     "metadata": {},
     "output_type": "display_data"
    }
   ],
   "source": [
    "sns.heatmap(corr_matrix)"
   ]
  },
  {
   "cell_type": "code",
   "execution_count": null,
   "id": "7d1e1212",
   "metadata": {},
   "outputs": [],
   "source": []
  },
  {
   "cell_type": "code",
   "execution_count": null,
   "id": "089f5a5c",
   "metadata": {},
   "outputs": [],
   "source": []
  },
  {
   "cell_type": "code",
   "execution_count": null,
   "id": "49958658",
   "metadata": {},
   "outputs": [],
   "source": []
  },
  {
   "cell_type": "code",
   "execution_count": null,
   "id": "7dfcc836",
   "metadata": {},
   "outputs": [],
   "source": []
  },
  {
   "cell_type": "code",
   "execution_count": 15,
   "id": "d2a36e1e",
   "metadata": {},
   "outputs": [
    {
     "ename": "NameError",
     "evalue": "name 'df_bins' is not defined",
     "output_type": "error",
     "traceback": [
      "\u001b[1;31m---------------------------------------------------------------------------\u001b[0m",
      "\u001b[1;31mNameError\u001b[0m                                 Traceback (most recent call last)",
      "Cell \u001b[1;32mIn[15], line 2\u001b[0m\n\u001b[0;32m      1\u001b[0m plt\u001b[38;5;241m.\u001b[39mfigure(figsize \u001b[38;5;241m=\u001b[39m(\u001b[38;5;241m8\u001b[39m,\u001b[38;5;241m7\u001b[39m))\n\u001b[1;32m----> 2\u001b[0m sns\u001b[38;5;241m.\u001b[39mscatterplot(x\u001b[38;5;241m=\u001b[39m\u001b[38;5;124m'\u001b[39m\u001b[38;5;124mquality_range\u001b[39m\u001b[38;5;124m'\u001b[39m, y \u001b[38;5;241m=\u001b[39m \u001b[38;5;124m'\u001b[39m\u001b[38;5;124malcohol\u001b[39m\u001b[38;5;124m'\u001b[39m, hue \u001b[38;5;241m=\u001b[39m \u001b[38;5;124m'\u001b[39m\u001b[38;5;124mtype\u001b[39m\u001b[38;5;124m'\u001b[39m, data \u001b[38;5;241m=\u001b[39m \u001b[43mdf_bins\u001b[49m);\n\u001b[0;32m      3\u001b[0m plt\u001b[38;5;241m.\u001b[39mxlabel(\u001b[38;5;124m'\u001b[39m\u001b[38;5;124mQuality\u001b[39m\u001b[38;5;124m'\u001b[39m, size\u001b[38;5;241m=\u001b[39m\u001b[38;5;241m15\u001b[39m)\n\u001b[0;32m      4\u001b[0m plt\u001b[38;5;241m.\u001b[39mylabel(\u001b[38;5;124m'\u001b[39m\u001b[38;5;124mAlcohol\u001b[39m\u001b[38;5;124m'\u001b[39m, size\u001b[38;5;241m=\u001b[39m\u001b[38;5;241m15\u001b[39m)\n",
      "\u001b[1;31mNameError\u001b[0m: name 'df_bins' is not defined"
     ]
    },
    {
     "data": {
      "text/plain": [
       "<Figure size 800x700 with 0 Axes>"
      ]
     },
     "metadata": {},
     "output_type": "display_data"
    }
   ],
   "source": [
    "plt.figure(figsize =(8,7))\n",
    "sns.scatterplot(x='quality_range', y = 'alcohol', hue = 'type', data = df_bins);\n",
    "plt.xlabel('Quality', size=15)\n",
    "plt.ylabel('Alcohol', size=15)\n",
    "plt.show()"
   ]
  },
  {
   "cell_type": "code",
   "execution_count": 17,
   "id": "14ec653e",
   "metadata": {},
   "outputs": [
    {
     "ename": "NameError",
     "evalue": "name 'df_bins' is not defined",
     "output_type": "error",
     "traceback": [
      "\u001b[1;31m---------------------------------------------------------------------------\u001b[0m",
      "\u001b[1;31mNameError\u001b[0m                                 Traceback (most recent call last)",
      "Cell \u001b[1;32mIn[17], line 4\u001b[0m\n\u001b[0;32m      1\u001b[0m f,(ax1,ax2) \u001b[38;5;241m=\u001b[39mplt\u001b[38;5;241m.\u001b[39msubplots(\u001b[38;5;241m1\u001b[39m,\u001b[38;5;241m2\u001b[39m, figsize\u001b[38;5;241m=\u001b[39m(\u001b[38;5;241m14\u001b[39m, \u001b[38;5;241m8\u001b[39m))\n\u001b[0;32m      2\u001b[0m f\u001b[38;5;241m.\u001b[39msuptitle(\u001b[38;5;124m'\u001b[39m\u001b[38;5;124mWine Types by Quality & Acidity\u001b[39m\u001b[38;5;124m'\u001b[39m, fontsize\u001b[38;5;241m=\u001b[39m\u001b[38;5;241m14\u001b[39m)\n\u001b[1;32m----> 4\u001b[0m sns\u001b[38;5;241m.\u001b[39mviolinplot(x \u001b[38;5;241m=\u001b[39m \u001b[38;5;124m'\u001b[39m\u001b[38;5;124mquality_range\u001b[39m\u001b[38;5;124m'\u001b[39m, y \u001b[38;5;241m=\u001b[39m \u001b[38;5;124m'\u001b[39m\u001b[38;5;124mvolatile_acidity\u001b[39m\u001b[38;5;124m'\u001b[39m, hue \u001b[38;5;241m=\u001b[39m\u001b[38;5;124m'\u001b[39m\u001b[38;5;124m type\u001b[39m\u001b[38;5;124m'\u001b[39m, data \u001b[38;5;241m=\u001b[39m\u001b[43mdf_bins\u001b[49m, split \u001b[38;5;241m=\u001b[39m\u001b[38;5;28;01mTrue\u001b[39;00m, inner \u001b[38;5;241m=\u001b[39m\u001b[38;5;124m'\u001b[39m\u001b[38;5;124mquart\u001b[39m\u001b[38;5;124m'\u001b[39m, linewidth \u001b[38;5;241m=\u001b[39m \u001b[38;5;241m1.3\u001b[39m, palette \u001b[38;5;241m=\u001b[39m {\u001b[38;5;124m'\u001b[39m\u001b[38;5;124mred\u001b[39m\u001b[38;5;124m'\u001b[39m:\u001b[38;5;124m'\u001b[39m\u001b[38;5;124mred\u001b[39m\u001b[38;5;124m'\u001b[39m,\u001b[38;5;124m'\u001b[39m\u001b[38;5;124mwhite\u001b[39m\u001b[38;5;124m'\u001b[39m:\u001b[38;5;124m'\u001b[39m\u001b[38;5;124mwhite\u001b[39m\u001b[38;5;124m'\u001b[39m}, ax\u001b[38;5;241m=\u001b[39max1)\n\u001b[0;32m      5\u001b[0m ax1\u001b[38;5;241m.\u001b[39mset_xlabel(\u001b[38;5;124m'\u001b[39m\u001b[38;5;124mWine Quality Class \u001b[39m\u001b[38;5;124m'\u001b[39m,size \u001b[38;5;241m=\u001b[39m \u001b[38;5;241m15\u001b[39m, alpha \u001b[38;5;241m=\u001b[39m\u001b[38;5;241m0.8\u001b[39m)\n\u001b[0;32m      6\u001b[0m ax1\u001b[38;5;241m.\u001b[39mset_ylabel(\u001b[38;5;124m'\u001b[39m\u001b[38;5;124mWine Acidity Class \u001b[39m\u001b[38;5;124m'\u001b[39m,size \u001b[38;5;241m=\u001b[39m \u001b[38;5;241m15\u001b[39m, alpha \u001b[38;5;241m=\u001b[39m\u001b[38;5;241m0.8\u001b[39m)\n",
      "\u001b[1;31mNameError\u001b[0m: name 'df_bins' is not defined"
     ]
    },
    {
     "data": {
      "image/png": "[encoded data removed]",
      "text/plain": [
       "<Figure size 1400x800 with 2 Axes>"
      ]
     },
     "metadata": {},
     "output_type": "display_data"
    }
   ],
   "source": [
    "f,(ax1,ax2) =plt.subplots(1,2, figsize=(14, 8))\n",
    "f.suptitle('Wine Types by Quality & Acidity', fontsize=14)\n",
    "\n",
    "sns.violinplot(x = 'quality_range', y = 'volatile_acidity', hue =' type', data =df_bins, split =True, inner ='quart', linewidth = 1.3, palette = {'red':'red','white':'white'}, ax=ax1)\n",
    "ax1.set_xlabel('Wine Quality Class ',size = 15, alpha =0.8)\n",
    "ax1.set_ylabel('Wine Acidity Class ',size = 15, alpha =0.8)\n",
    "\n",
    "sns.violinplot(x='quality_range', y='alcohol', hue = 'type', data= df_bins, split = True, inner ='quart', linewidth = 1.3, palette = {'red':'darkred','white':'white'}, ax=ax2)\n",
    "ax2.set_xlabel('Wine Quality Class ',size = 15, alpha =0.8)\n",
    "ax2.set_ylabel('Wine Acidity Class ',size = 15, alpha =0.8)\n",
    "plt.show()"
   ]
  },
  {
   "cell_type": "code",
   "execution_count": 18,
   "id": "6423b190",
   "metadata": {},
   "outputs": [
    {
     "ename": "NameError",
     "evalue": "name 'df_bins' is not defined",
     "output_type": "error",
     "traceback": [
      "\u001b[1;31m---------------------------------------------------------------------------\u001b[0m",
      "\u001b[1;31mNameError\u001b[0m                                 Traceback (most recent call last)",
      "Cell \u001b[1;32mIn[18], line 3\u001b[0m\n\u001b[0;32m      1\u001b[0m plt\u001b[38;5;241m.\u001b[39mfigure(figsize\u001b[38;5;241m=\u001b[39m(\u001b[38;5;241m6\u001b[39m,\u001b[38;5;241m4\u001b[39m))\n\u001b[1;32m----> 3\u001b[0m low_quality \u001b[38;5;241m=\u001b[39m \u001b[43mdf_bins\u001b[49m[df_bins[\u001b[38;5;124m'\u001b[39m\u001b[38;5;124mquality_range\u001b[39m\u001b[38;5;124m'\u001b[39m]\u001b[38;5;241m==\u001b[39m\u001b[38;5;241m0\u001b[39m][\u001b[38;5;124m'\u001b[39m\u001b[38;5;124mchlorides\u001b[39m\u001b[38;5;124m'\u001b[39m]\n\u001b[0;32m      4\u001b[0m high_quality \u001b[38;5;241m=\u001b[39m df_bins[df_bins[\u001b[38;5;124m'\u001b[39m\u001b[38;5;124mquality_range\u001b[39m\u001b[38;5;124m'\u001b[39m]\u001b[38;5;241m==\u001b[39m\u001b[38;5;241m1\u001b[39m][\u001b[38;5;124m'\u001b[39m\u001b[38;5;124mchlorides\u001b[39m\u001b[38;5;124m'\u001b[39m]\n\u001b[0;32m      6\u001b[0m ax \u001b[38;5;241m=\u001b[39m sns\u001b[38;5;241m.\u001b[39mkdeplot(data\u001b[38;5;241m=\u001b[39mlow_quality, label \u001b[38;5;241m=\u001b[39m \u001b[38;5;124m'\u001b[39m\u001b[38;5;124mlow_quality\u001b[39m\u001b[38;5;124m'\u001b[39m, shades \u001b[38;5;241m=\u001b[39m\u001b[38;5;28;01mTrue\u001b[39;00m, color \u001b[38;5;241m=\u001b[39m \u001b[38;5;28;01mNone\u001b[39;00m)\n",
      "\u001b[1;31mNameError\u001b[0m: name 'df_bins' is not defined"
     ]
    },
    {
     "data": {
      "text/plain": [
       "<Figure size 600x400 with 0 Axes>"
      ]
     },
     "metadata": {},
     "output_type": "display_data"
    }
   ],
   "source": [
    "plt.figure(figsize=(6,4))\n",
    "\n",
    "low_quality = df_bins[df_bins['quality_range']==0]['chlorides']\n",
    "high_quality = df_bins[df_bins['quality_range']==1]['chlorides']\n",
    "\n",
    "ax = sns.kdeplot(data=low_quality, label = 'low_quality', shades =True, color = None)\n",
    "ax = sns.kdeplot(data=high_quality, label = 'high_quality', shades =True, color = None)"
   ]
  },
  {
   "cell_type": "code",
   "execution_count": null,
   "id": "b1ef2226",
   "metadata": {},
   "outputs": [],
   "source": []
  }
 ],
 "metadata": {
  "kernelspec": {
   "display_name": "Python 3 (ipykernel)",
   "language": "python",
   "name": "python3"
  },
  "language_info": {
   "codemirror_mode": {
    "name": "ipython",
    "version": 3
   },
   "file_extension": ".py",
   "mimetype": "text/x-python",
   "name": "python",
   "nbconvert_exporter": "python",
   "pygments_lexer": "ipython3",
   "version": "3.8.10"
  }
 },
 "nbformat": 4,
 "nbformat_minor": 5
}
