{
 "cells": [
  {
   "cell_type": "code",
   "execution_count": 1,
   "id": "d2975394",
   "metadata": {},
   "outputs": [],
   "source": [
    "import pandas as pd\n",
    "import numpy as np\n",
    "import matplotlib.pyplot as plt\n",
    "from math import sqrt\n",
    "from sklearn.naive_bayes import GaussianNB\n",
    "from sklearn.model_selection import train_test_split\n",
    "from sklearn.metrics import confusion_matrix\n",
    "from sklearn.metrics import mean_squared_error\n",
    "from sklearn.preprocessing import StandardScaler\n",
    "from sklearn.svm import LinearSVC\n",
    "from sklearn.metrics import classification_report\n",
    "from sklearn.tree import export_graphviz\n",
    "from sklearn.tree import DecisionTreeClassifier"
   ]
  },
  {
   "cell_type": "code",
   "execution_count": 3,
   "id": "688afa51",
   "metadata": {},
   "outputs": [],
   "source": [
    "fert = pd.read_csv(\"C:/Users/user/Desktop/Sneha's Program/ML Datasets/fertilitydiagnosis.csv\")"
   ]
  },
  {
   "cell_type": "code",
   "execution_count": 4,
   "id": "3f417920",
   "metadata": {},
   "outputs": [
    {
     "data": {
      "text/html": [
       "<div>\n",
       "<style scoped>\n",
       "    .dataframe tbody tr th:only-of-type {\n",
       "        vertical-align: middle;\n",
       "    }\n",
       "\n",
       "    .dataframe tbody tr th {\n",
       "        vertical-align: top;\n",
       "    }\n",
       "\n",
       "    .dataframe thead th {\n",
       "        text-align: right;\n",
       "    }\n",
       "</style>\n",
       "<table border=\"1\" class=\"dataframe\">\n",
       "  <thead>\n",
       "    <tr style=\"text-align: right;\">\n",
       "      <th></th>\n",
       "      <th>Season</th>\n",
       "      <th>Age</th>\n",
       "      <th>Childish diseases</th>\n",
       "      <th>Accident or serious trauma</th>\n",
       "      <th>Surgical intervention</th>\n",
       "      <th>High fevers in the last year</th>\n",
       "      <th>Frequency of alcohol consumption</th>\n",
       "      <th>Smoking habit</th>\n",
       "      <th>Number of hours spent sitting per day</th>\n",
       "      <th>Diagnosis</th>\n",
       "    </tr>\n",
       "  </thead>\n",
       "  <tbody>\n",
       "    <tr>\n",
       "      <th>0</th>\n",
       "      <td>spring</td>\n",
       "      <td>30</td>\n",
       "      <td>no</td>\n",
       "      <td>yes</td>\n",
       "      <td>yes</td>\n",
       "      <td>more than 3 months ago</td>\n",
       "      <td>once a week</td>\n",
       "      <td>occasional</td>\n",
       "      <td>16</td>\n",
       "      <td>Normal</td>\n",
       "    </tr>\n",
       "    <tr>\n",
       "      <th>1</th>\n",
       "      <td>spring</td>\n",
       "      <td>35</td>\n",
       "      <td>yes</td>\n",
       "      <td>no</td>\n",
       "      <td>yes</td>\n",
       "      <td>more than 3 months ago</td>\n",
       "      <td>once a week</td>\n",
       "      <td>daily</td>\n",
       "      <td>6</td>\n",
       "      <td>Altered</td>\n",
       "    </tr>\n",
       "    <tr>\n",
       "      <th>2</th>\n",
       "      <td>spring</td>\n",
       "      <td>27</td>\n",
       "      <td>yes</td>\n",
       "      <td>no</td>\n",
       "      <td>no</td>\n",
       "      <td>more than 3 months ago</td>\n",
       "      <td>hardly ever or never</td>\n",
       "      <td>never</td>\n",
       "      <td>9</td>\n",
       "      <td>Normal</td>\n",
       "    </tr>\n",
       "    <tr>\n",
       "      <th>3</th>\n",
       "      <td>spring</td>\n",
       "      <td>32</td>\n",
       "      <td>no</td>\n",
       "      <td>yes</td>\n",
       "      <td>yes</td>\n",
       "      <td>more than 3 months ago</td>\n",
       "      <td>hardly ever or never</td>\n",
       "      <td>never</td>\n",
       "      <td>7</td>\n",
       "      <td>Normal</td>\n",
       "    </tr>\n",
       "    <tr>\n",
       "      <th>4</th>\n",
       "      <td>spring</td>\n",
       "      <td>30</td>\n",
       "      <td>yes</td>\n",
       "      <td>yes</td>\n",
       "      <td>no</td>\n",
       "      <td>more than 3 months ago</td>\n",
       "      <td>once a week</td>\n",
       "      <td>never</td>\n",
       "      <td>9</td>\n",
       "      <td>Altered</td>\n",
       "    </tr>\n",
       "  </tbody>\n",
       "</table>\n",
       "</div>"
      ],
      "text/plain": [
       "   Season  Age Childish diseases Accident or serious trauma  \\\n",
       "0  spring   30                no                        yes   \n",
       "1  spring   35               yes                         no   \n",
       "2  spring   27               yes                         no   \n",
       "3  spring   32                no                        yes   \n",
       "4  spring   30               yes                        yes   \n",
       "\n",
       "  Surgical intervention High fevers in the last year  \\\n",
       "0                   yes       more than 3 months ago   \n",
       "1                   yes       more than 3 months ago   \n",
       "2                    no       more than 3 months ago   \n",
       "3                   yes       more than 3 months ago   \n",
       "4                    no       more than 3 months ago   \n",
       "\n",
       "  Frequency of alcohol consumption Smoking habit  \\\n",
       "0                      once a week    occasional   \n",
       "1                      once a week         daily   \n",
       "2             hardly ever or never         never   \n",
       "3             hardly ever or never         never   \n",
       "4                      once a week         never   \n",
       "\n",
       "   Number of hours spent sitting per day Diagnosis  \n",
       "0                                     16    Normal  \n",
       "1                                      6   Altered  \n",
       "2                                      9    Normal  \n",
       "3                                      7    Normal  \n",
       "4                                      9   Altered  "
      ]
     },
     "execution_count": 4,
     "metadata": {},
     "output_type": "execute_result"
    }
   ],
   "source": [
    "fert.head()"
   ]
  },
  {
   "cell_type": "code",
   "execution_count": 5,
   "id": "d8e42358",
   "metadata": {},
   "outputs": [
    {
     "data": {
      "text/plain": [
       "(100, 10)"
      ]
     },
     "execution_count": 5,
     "metadata": {},
     "output_type": "execute_result"
    }
   ],
   "source": [
    "fert.shape"
   ]
  },
  {
   "cell_type": "code",
   "execution_count": 6,
   "id": "6797b5ee",
   "metadata": {},
   "outputs": [
    {
     "data": {
      "text/plain": [
       "<bound method NDFrame.keys of     Season  Age Childish diseases Accident or serious trauma  \\\n",
       "0   spring   30                no                        yes   \n",
       "1   spring   35               yes                         no   \n",
       "2   spring   27               yes                         no   \n",
       "3   spring   32                no                        yes   \n",
       "4   spring   30               yes                        yes   \n",
       "..     ...  ...               ...                        ...   \n",
       "95  winter   30               yes                         no   \n",
       "96  winter   29               yes                         no   \n",
       "97  winter   30               yes                        yes   \n",
       "98  winter   30               yes                         no   \n",
       "99  winter   30                no                        yes   \n",
       "\n",
       "   Surgical intervention High fevers in the last year  \\\n",
       "0                    yes       more than 3 months ago   \n",
       "1                    yes       more than 3 months ago   \n",
       "2                     no       more than 3 months ago   \n",
       "3                    yes       more than 3 months ago   \n",
       "4                     no       more than 3 months ago   \n",
       "..                   ...                          ...   \n",
       "95                    no       more than 3 months ago   \n",
       "96                    no       more than 3 months ago   \n",
       "97                   yes       more than 3 months ago   \n",
       "98                   yes       more than 3 months ago   \n",
       "99                   yes       more than 3 months ago   \n",
       "\n",
       "   Frequency of alcohol consumption Smoking habit  \\\n",
       "0                       once a week    occasional   \n",
       "1                       once a week         daily   \n",
       "2              hardly ever or never         never   \n",
       "3              hardly ever or never         never   \n",
       "4                       once a week         never   \n",
       "..                              ...           ...   \n",
       "95             hardly ever or never         never   \n",
       "96                      once a week    occasional   \n",
       "97             hardly ever or never         never   \n",
       "98             hardly ever or never    occasional   \n",
       "99             several times a week         never   \n",
       "\n",
       "    Number of hours spent sitting per day Diagnosis  \n",
       "0                                      16    Normal  \n",
       "1                                       6   Altered  \n",
       "2                                       9    Normal  \n",
       "3                                       7    Normal  \n",
       "4                                       9   Altered  \n",
       "..                                    ...       ...  \n",
       "95                                      9    Normal  \n",
       "96                                      9    Normal  \n",
       "97                                      6    Normal  \n",
       "98                                      3    Normal  \n",
       "99                                      3    Normal  \n",
       "\n",
       "[100 rows x 10 columns]>"
      ]
     },
     "execution_count": 6,
     "metadata": {},
     "output_type": "execute_result"
    }
   ],
   "source": [
    "fert.keys"
   ]
  },
  {
   "cell_type": "code",
   "execution_count": 32,
   "id": "606858b7",
   "metadata": {},
   "outputs": [],
   "source": [
    "fert=fert.drop('Season', axis =1)"
   ]
  },
  {
   "cell_type": "code",
   "execution_count": 33,
   "id": "8c3ff738",
   "metadata": {},
   "outputs": [
    {
     "data": {
      "text/plain": [
       "Index(['Age', 'Childish diseases', 'Accident or serious trauma',\n",
       "       'Surgical intervention', 'High fevers in the last year',\n",
       "       'Frequency of alcohol consumption', 'Smoking habit',\n",
       "       'Number of hours spent sitting per day', 'Diagnosis'],\n",
       "      dtype='object')"
      ]
     },
     "execution_count": 33,
     "metadata": {},
     "output_type": "execute_result"
    }
   ],
   "source": [
    "fert.columns"
   ]
  },
  {
   "cell_type": "code",
   "execution_count": 34,
   "id": "517bffa4",
   "metadata": {},
   "outputs": [],
   "source": [
    "train,test = train_test_split(fert,test_size = 0.3)"
   ]
  },
  {
   "cell_type": "code",
   "execution_count": 35,
   "id": "4b08e3ea",
   "metadata": {},
   "outputs": [],
   "source": [
    "x_train=train.drop('Diagnosis', axis = 1)"
   ]
  },
  {
   "cell_type": "code",
   "execution_count": 36,
   "id": "b45ce747",
   "metadata": {},
   "outputs": [],
   "source": [
    "y_train=train['Diagnosis']"
   ]
  },
  {
   "cell_type": "code",
   "execution_count": 37,
   "id": "47f8a315",
   "metadata": {},
   "outputs": [],
   "source": [
    "x_test=test.drop('Diagnosis', axis = 1)"
   ]
  },
  {
   "cell_type": "code",
   "execution_count": 38,
   "id": "35fda61c",
   "metadata": {},
   "outputs": [],
   "source": [
    "y_test=test['Diagnosis']"
   ]
  },
  {
   "cell_type": "code",
   "execution_count": 39,
   "id": "9772360c",
   "metadata": {},
   "outputs": [],
   "source": [
    "dt= DecisionTreeClassifier(random_state=0)"
   ]
  },
  {
   "cell_type": "code",
   "execution_count": 48,
   "id": "b9dad9fc",
   "metadata": {},
   "outputs": [],
   "source": [
    "dt.fit(x_train,y_train)      #ERROR"
   ]
  },
  {
   "cell_type": "code",
   "execution_count": 43,
   "id": "1c31269e",
   "metadata": {},
   "outputs": [],
   "source": [
    "dt_new= DecisionTreeClassifier(max_depth=3,random_state=0)"
   ]
  },
  {
   "cell_type": "code",
   "execution_count": 47,
   "id": "defaeec0",
   "metadata": {},
   "outputs": [],
   "source": [
    "dt_new.fit(x_train,y_train)    #ERROR"
   ]
  },
  {
   "cell_type": "code",
   "execution_count": 46,
   "id": "dbac962e",
   "metadata": {},
   "outputs": [],
   "source": [
    "from sklearn import tree\n",
    "tree.plot_tree(dt_new)"
   ]
  },
  {
   "cell_type": "code",
   "execution_count": null,
   "id": "8ea8d4de",
   "metadata": {},
   "outputs": [],
   "source": []
  }
 ],
 "metadata": {
  "kernelspec": {
   "display_name": "Python 3 (ipykernel)",
   "language": "python",
   "name": "python3"
  },
  "language_info": {
   "codemirror_mode": {
    "name": "ipython",
    "version": 3
   },
   "file_extension": ".py",
   "mimetype": "text/x-python",
   "name": "python",
   "nbconvert_exporter": "python",
   "pygments_lexer": "ipython3",
   "version": "3.8.10"
  }
 },
 "nbformat": 4,
 "nbformat_minor": 5
}
