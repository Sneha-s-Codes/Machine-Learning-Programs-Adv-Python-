{
 "cells": [
  {
   "cell_type": "markdown",
   "id": "41079d2f",
   "metadata": {},
   "source": [
    "## Image Clustering using KMeans "
   ]
  },
  {
   "cell_type": "code",
   "execution_count": 1,
   "id": "db617765",
   "metadata": {},
   "outputs": [],
   "source": [
    "from sklearn.cluster import KMeans\n",
    "from keras.datasets import cifar10"
   ]
  },
  {
   "cell_type": "code",
   "execution_count": 2,
   "id": "80ed9639",
   "metadata": {},
   "outputs": [
    {
     "name": "stdout",
     "output_type": "stream",
     "text": [
      "(50000, 32, 32, 3)\n",
      "(50000, 1)\n",
      "(10000, 32, 32, 3)\n",
      "(10000, 1)\n"
     ]
    }
   ],
   "source": [
    "(x_train, y_train), (x_test, y_test) = cifar10.load_data()\n",
    "print(x_train.shape)\n",
    "print(y_train.shape)\n",
    "print(x_test.shape)\n",
    "print(y_test.shape)"
   ]
  },
  {
   "cell_type": "code",
   "execution_count": 3,
   "id": "bb044e68",
   "metadata": {},
   "outputs": [
    {
     "name": "stdout",
     "output_type": "stream",
     "text": [
      "(50000, 3072)\n",
      "(10000, 3072)\n"
     ]
    }
   ],
   "source": [
    "import numpy as np\n",
    "x_train = np.reshape(x_train,(50000,3072))\n",
    "x_test = np.reshape(x_test,(10000,3072))\n",
    "\n",
    "print(x_train.shape)\n",
    "print(x_test.shape)"
   ]
  },
  {
   "cell_type": "code",
   "execution_count": 5,
   "id": "95c10eb1",
   "metadata": {},
   "outputs": [
    {
     "name": "stderr",
     "output_type": "stream",
     "text": [
      "C:\\Users\\user\\AppData\\Local\\Programs\\Python\\Python38\\lib\\site-packages\\sklearn\\cluster\\_kmeans.py:870: FutureWarning: The default value of `n_init` will change from 10 to 'auto' in 1.4. Set the value of `n_init` explicitly to suppress the warning\n",
      "  warnings.warn(\n"
     ]
    },
    {
     "name": "stdout",
     "output_type": "stream",
     "text": [
      "[5 0 2 ... 2 7 6]\n"
     ]
    }
   ],
   "source": [
    "kmeans = KMeans(n_clusters = 10, random_state =10)\n",
    "pred = kmeans.fit_predict(x_train)\n",
    "print(pred)"
   ]
  },
  {
   "cell_type": "code",
   "execution_count": 6,
   "id": "bebf56e5",
   "metadata": {},
   "outputs": [
    {
     "name": "stdout",
     "output_type": "stream",
     "text": [
      "[[ 87.60107767  96.27387588  98.64288369 ...  86.2047566   89.09048681\n",
      "   85.07506503]\n",
      " [ 46.31959391  47.35431472  39.29969543 ...  68.22619289  67.03573604\n",
      "   54.47756345]\n",
      " [174.76062371 185.59235778 193.395305   ... 101.90507197 102.16997944\n",
      "   92.79283756]\n",
      " ...\n",
      " [192.89178267 204.9104176  216.15536596 ... 118.58374495 122.69690166\n",
      "  119.6324652 ]\n",
      " [122.41811175 137.35765896 148.55081888 ... 148.34802505 154.102842\n",
      "  156.16401734]\n",
      " [110.67808422 111.53024911  93.19572954 ... 106.82858837 103.03618031\n",
      "   81.44988138]]\n"
     ]
    }
   ],
   "source": [
    "print(kmeans.cluster_centers_)"
   ]
  },
  {
   "cell_type": "code",
   "execution_count": 8,
   "id": "028a8c47",
   "metadata": {},
   "outputs": [
    {
     "name": "stdout",
     "output_type": "stream",
     "text": [
      "(50000, 1)\n",
      "(50000,)\n"
     ]
    }
   ],
   "source": [
    "print(y_train.shape)\n",
    "print(pred.shape)"
   ]
  },
  {
   "cell_type": "code",
   "execution_count": 16,
   "id": "482bdfa2",
   "metadata": {},
   "outputs": [
    {
     "name": "stdout",
     "output_type": "stream",
     "text": [
      "3    7095\n",
      "9    6743\n",
      "2    5836\n",
      "0    5382\n",
      "5    5070\n",
      "1    4925\n",
      "7    4454\n",
      "8    4152\n",
      "6    3614\n",
      "4    2729\n",
      "Name: Predicted , dtype: int64\n"
     ]
    }
   ],
   "source": [
    "import pandas as pd\n",
    "\n",
    "data = {'Original' :y_train, 'Predicted ':pred}\n",
    "kmeansdf = pd.DataFrame(data,columns = ['Original ','Predicted '])\n",
    "print(kmeansdf['Predicted '].value_counts())"
   ]
  },
  {
   "cell_type": "code",
   "execution_count": null,
   "id": "4777048c",
   "metadata": {},
   "outputs": [],
   "source": []
  }
 ],
 "metadata": {
  "kernelspec": {
   "display_name": "Python 3 (ipykernel)",
   "language": "python",
   "name": "python3"
  },
  "language_info": {
   "codemirror_mode": {
    "name": "ipython",
    "version": 3
   },
   "file_extension": ".py",
   "mimetype": "text/x-python",
   "name": "python",
   "nbconvert_exporter": "python",
   "pygments_lexer": "ipython3",
   "version": "3.11.3"
  }
 },
 "nbformat": 4,
 "nbformat_minor": 5
}
