{
 "cells": [
  {
   "cell_type": "code",
   "execution_count": null,
   "id": "54d8a8e9",
   "metadata": {},
   "outputs": [],
   "source": [
    "import pandas as pd\n",
    "import numpy as np\n",
    "import matplotlib.pyplot as plt\n",
    "from statsmodels.tsa.stattools import adfuller"
   ]
  },
  {
   "cell_type": "code",
   "execution_count": null,
   "id": "f2b4acff",
   "metadata": {},
   "outputs": [],
   "source": [
    "data = pd.read_csv(\"daily-total-female-births-IN.csv\", header =0, index_col =0)"
   ]
  },
  {
   "cell_type": "code",
   "execution_count": null,
   "id": "f1f38f6e",
   "metadata": {},
   "outputs": [],
   "source": [
    "print(data.head(3))"
   ]
  },
  {
   "cell_type": "code",
   "execution_count": null,
   "id": "aad1c65f",
   "metadata": {},
   "outputs": [],
   "source": [
    "plt.plot(data)"
   ]
  },
  {
   "cell_type": "code",
   "execution_count": null,
   "id": "3073f6f7",
   "metadata": {},
   "outputs": [],
   "source": [
    "data2 = pd.read_csv(\"AirPassengers.csv\", header =0, index_col =0)"
   ]
  },
  {
   "cell_type": "code",
   "execution_count": null,
   "id": "3891bdbb",
   "metadata": {},
   "outputs": [],
   "source": [
    "print(data.head(10))"
   ]
  },
  {
   "cell_type": "code",
   "execution_count": null,
   "id": "d367fb86",
   "metadata": {},
   "outputs": [],
   "source": [
    "plt.plot(data2)"
   ]
  },
  {
   "cell_type": "code",
   "execution_count": null,
   "id": "7600f3b1",
   "metadata": {},
   "outputs": [],
   "source": [
    "values = data2.values"
   ]
  },
  {
   "cell_type": "code",
   "execution_count": null,
   "id": "6a282cc1",
   "metadata": {},
   "outputs": [],
   "source": [
    "res = adfuller(values)"
   ]
  },
  {
   "cell_type": "code",
   "execution_count": null,
   "id": "2f5c1209",
   "metadata": {},
   "outputs": [],
   "source": [
    "print(' Augumented Dickey_fuller  Statistics  :  %f' % res[0])\n",
    "print('P-Value  : %f' %res[1])"
   ]
  },
  {
   "cell_type": "code",
   "execution_count": null,
   "id": "88160db7",
   "metadata": {},
   "outputs": [],
   "source": [
    "print('Critucal Values at Different Levels  : ' )"
   ]
  },
  {
   "cell_type": "code",
   "execution_count": null,
   "id": "c7ecb79c",
   "metadata": {},
   "outputs": [],
   "source": []
  },
  {
   "cell_type": "code",
   "execution_count": null,
   "id": "5e507289",
   "metadata": {},
   "outputs": [],
   "source": []
  },
  {
   "cell_type": "code",
   "execution_count": null,
   "id": "f71fb991",
   "metadata": {},
   "outputs": [],
   "source": []
  },
  {
   "cell_type": "code",
   "execution_count": null,
   "id": "6ba87250",
   "metadata": {},
   "outputs": [],
   "source": []
  },
  {
   "cell_type": "code",
   "execution_count": null,
   "id": "319cdbcf",
   "metadata": {},
   "outputs": [],
   "source": []
  },
  {
   "cell_type": "code",
   "execution_count": null,
   "id": "e6dfd040",
   "metadata": {},
   "outputs": [],
   "source": []
  },
  {
   "cell_type": "code",
   "execution_count": null,
   "id": "d17b3e3b",
   "metadata": {},
   "outputs": [],
   "source": []
  },
  {
   "cell_type": "code",
   "execution_count": null,
   "id": "ca503da9",
   "metadata": {},
   "outputs": [],
   "source": []
  }
 ],
 "metadata": {
  "kernelspec": {
   "display_name": "Python 3 (ipykernel)",
   "language": "python",
   "name": "python3"
  },
  "language_info": {
   "codemirror_mode": {
    "name": "ipython",
    "version": 3
   },
   "file_extension": ".py",
   "mimetype": "text/x-python",
   "name": "python",
   "nbconvert_exporter": "python",
   "pygments_lexer": "ipython3",
   "version": "3.8.10"
  }
 },
 "nbformat": 4,
 "nbformat_minor": 5
}
